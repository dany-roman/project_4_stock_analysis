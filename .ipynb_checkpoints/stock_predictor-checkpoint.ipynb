{
 "cells": [
  {
   "cell_type": "code",
   "execution_count": 9,
   "id": "369d42e5",
   "metadata": {},
   "outputs": [],
   "source": [
    "import pandas as pd\n",
    "import sklearn as skl\n",
    "# import tensorflow as tf\n",
    "from sklearn.model_selection import train_test_split"
   ]
  },
  {
   "cell_type": "code",
   "execution_count": 10,
   "id": "57434eb6",
   "metadata": {},
   "outputs": [
    {
     "data": {
      "text/html": [
       "<div>\n",
       "<style scoped>\n",
       "    .dataframe tbody tr th:only-of-type {\n",
       "        vertical-align: middle;\n",
       "    }\n",
       "\n",
       "    .dataframe tbody tr th {\n",
       "        vertical-align: top;\n",
       "    }\n",
       "\n",
       "    .dataframe thead th {\n",
       "        text-align: right;\n",
       "    }\n",
       "</style>\n",
       "<table border=\"1\" class=\"dataframe\">\n",
       "  <thead>\n",
       "    <tr style=\"text-align: right;\">\n",
       "      <th></th>\n",
       "      <th>High-Low Price</th>\n",
       "      <th>Close-Open Price</th>\n",
       "      <th>7-day m_avg</th>\n",
       "      <th>14-day m_avg</th>\n",
       "      <th>21-day m_avg</th>\n",
       "      <th>7-day m_std</th>\n",
       "    </tr>\n",
       "  </thead>\n",
       "  <tbody>\n",
       "    <tr>\n",
       "      <th>0</th>\n",
       "      <td>0.629999</td>\n",
       "      <td>0.010000</td>\n",
       "      <td>0.629999</td>\n",
       "      <td>0.629999</td>\n",
       "      <td>0.629999</td>\n",
       "      <td>0.000000</td>\n",
       "    </tr>\n",
       "    <tr>\n",
       "      <th>1</th>\n",
       "      <td>0.280001</td>\n",
       "      <td>-0.020000</td>\n",
       "      <td>0.455000</td>\n",
       "      <td>0.455000</td>\n",
       "      <td>0.455000</td>\n",
       "      <td>0.000000</td>\n",
       "    </tr>\n",
       "    <tr>\n",
       "      <th>2</th>\n",
       "      <td>0.460000</td>\n",
       "      <td>-0.190001</td>\n",
       "      <td>0.456667</td>\n",
       "      <td>0.456667</td>\n",
       "      <td>0.456667</td>\n",
       "      <td>0.109697</td>\n",
       "    </tr>\n",
       "    <tr>\n",
       "      <th>3</th>\n",
       "      <td>0.380000</td>\n",
       "      <td>0.030000</td>\n",
       "      <td>0.437500</td>\n",
       "      <td>0.437500</td>\n",
       "      <td>0.437500</td>\n",
       "      <td>0.092557</td>\n",
       "    </tr>\n",
       "    <tr>\n",
       "      <th>4</th>\n",
       "      <td>0.330000</td>\n",
       "      <td>0.120000</td>\n",
       "      <td>0.416000</td>\n",
       "      <td>0.416000</td>\n",
       "      <td>0.416000</td>\n",
       "      <td>0.100350</td>\n",
       "    </tr>\n",
       "    <tr>\n",
       "      <th>...</th>\n",
       "      <td>...</td>\n",
       "      <td>...</td>\n",
       "      <td>...</td>\n",
       "      <td>...</td>\n",
       "      <td>...</td>\n",
       "      <td>...</td>\n",
       "    </tr>\n",
       "    <tr>\n",
       "      <th>1002</th>\n",
       "      <td>1.200005</td>\n",
       "      <td>0.009995</td>\n",
       "      <td>2.527143</td>\n",
       "      <td>2.815714</td>\n",
       "      <td>3.009048</td>\n",
       "      <td>2.298816</td>\n",
       "    </tr>\n",
       "    <tr>\n",
       "      <th>1003</th>\n",
       "      <td>2.320000</td>\n",
       "      <td>-1.330002</td>\n",
       "      <td>2.600001</td>\n",
       "      <td>2.836429</td>\n",
       "      <td>3.009048</td>\n",
       "      <td>2.138821</td>\n",
       "    </tr>\n",
       "    <tr>\n",
       "      <th>1004</th>\n",
       "      <td>3.029999</td>\n",
       "      <td>-1.040001</td>\n",
       "      <td>2.794286</td>\n",
       "      <td>2.850000</td>\n",
       "      <td>3.075238</td>\n",
       "      <td>1.749579</td>\n",
       "    </tr>\n",
       "    <tr>\n",
       "      <th>1005</th>\n",
       "      <td>2.659996</td>\n",
       "      <td>1.510002</td>\n",
       "      <td>2.585714</td>\n",
       "      <td>2.644286</td>\n",
       "      <td>2.906190</td>\n",
       "      <td>0.934162</td>\n",
       "    </tr>\n",
       "    <tr>\n",
       "      <th>1006</th>\n",
       "      <td>1.430000</td>\n",
       "      <td>-0.389999</td>\n",
       "      <td>2.190000</td>\n",
       "      <td>2.527858</td>\n",
       "      <td>2.825714</td>\n",
       "      <td>0.773520</td>\n",
       "    </tr>\n",
       "  </tbody>\n",
       "</table>\n",
       "<p>1007 rows × 6 columns</p>\n",
       "</div>"
      ],
      "text/plain": [
       "      High-Low Price  Close-Open Price  7-day m_avg  14-day m_avg  \\\n",
       "0           0.629999          0.010000     0.629999      0.629999   \n",
       "1           0.280001         -0.020000     0.455000      0.455000   \n",
       "2           0.460000         -0.190001     0.456667      0.456667   \n",
       "3           0.380000          0.030000     0.437500      0.437500   \n",
       "4           0.330000          0.120000     0.416000      0.416000   \n",
       "...              ...               ...          ...           ...   \n",
       "1002        1.200005          0.009995     2.527143      2.815714   \n",
       "1003        2.320000         -1.330002     2.600001      2.836429   \n",
       "1004        3.029999         -1.040001     2.794286      2.850000   \n",
       "1005        2.659996          1.510002     2.585714      2.644286   \n",
       "1006        1.430000         -0.389999     2.190000      2.527858   \n",
       "\n",
       "      21-day m_avg  7-day m_std  \n",
       "0         0.629999     0.000000  \n",
       "1         0.455000     0.000000  \n",
       "2         0.456667     0.109697  \n",
       "3         0.437500     0.092557  \n",
       "4         0.416000     0.100350  \n",
       "...            ...          ...  \n",
       "1002      3.009048     2.298816  \n",
       "1003      3.009048     2.138821  \n",
       "1004      3.075238     1.749579  \n",
       "1005      2.906190     0.934162  \n",
       "1006      2.825714     0.773520  \n",
       "\n",
       "[1007 rows x 6 columns]"
      ]
     },
     "execution_count": 10,
     "metadata": {},
     "output_type": "execute_result"
    }
   ],
   "source": [
    "amd_file = \"test_data/test_amd.csv\"\n",
    "stock = pd.read_csv(amd_file)\n",
    "stock_df = pd.DataFrame(stock)\n",
    "stock_df.fillna(0)"
   ]
  },
  {
   "cell_type": "code",
   "execution_count": 13,
   "id": "ee270b6c",
   "metadata": {},
   "outputs": [],
   "source": [
    "X = stock_df"
   ]
  },
  {
   "cell_type": "code",
   "execution_count": 14,
   "id": "1d808ce5",
   "metadata": {},
   "outputs": [],
   "source": [
    "X_train, X_test = train_test_split(X)"
   ]
  },
  {
   "cell_type": "code",
   "execution_count": 15,
   "id": "d7a8c324",
   "metadata": {},
   "outputs": [],
   "source": [
    "# Create scaler instance\n",
    "X_scaler = skl.preprocessing.StandardScaler()\n",
    "\n",
    "# Fit the scaler\n",
    "X_scaler.fit(X_train)\n",
    "\n",
    "# Scale the data\n",
    "X_train_scaled = X_scaler.transform(X_train)\n",
    "X_test_scaled = X_scaler.transform(X_test)"
   ]
  },
  {
   "cell_type": "code",
   "execution_count": 16,
   "id": "bcf9a01e",
   "metadata": {},
   "outputs": [
    {
     "ename": "NameError",
     "evalue": "name 'tf' is not defined",
     "output_type": "error",
     "traceback": [
      "\u001b[1;31m---------------------------------------------------------------------------\u001b[0m",
      "\u001b[1;31mNameError\u001b[0m                                 Traceback (most recent call last)",
      "\u001b[1;32m<ipython-input-16-88901f7482b8>\u001b[0m in \u001b[0;36m<module>\u001b[1;34m\u001b[0m\n\u001b[0;32m      1\u001b[0m \u001b[1;31m# Create the Keras Sequential model\u001b[0m\u001b[1;33m\u001b[0m\u001b[1;33m\u001b[0m\u001b[1;33m\u001b[0m\u001b[0m\n\u001b[1;32m----> 2\u001b[1;33m \u001b[0mnn_model\u001b[0m \u001b[1;33m=\u001b[0m \u001b[0mtf\u001b[0m\u001b[1;33m.\u001b[0m\u001b[0mkeras\u001b[0m\u001b[1;33m.\u001b[0m\u001b[0mmodels\u001b[0m\u001b[1;33m.\u001b[0m\u001b[0mSequential\u001b[0m\u001b[1;33m(\u001b[0m\u001b[1;33m)\u001b[0m\u001b[1;33m\u001b[0m\u001b[1;33m\u001b[0m\u001b[0m\n\u001b[0m\u001b[0;32m      3\u001b[0m \u001b[1;33m\u001b[0m\u001b[0m\n\u001b[0;32m      4\u001b[0m \u001b[1;31m# Add our first Dense layer, including the input layer\u001b[0m\u001b[1;33m\u001b[0m\u001b[1;33m\u001b[0m\u001b[1;33m\u001b[0m\u001b[0m\n\u001b[0;32m      5\u001b[0m \u001b[0mnn_model\u001b[0m\u001b[1;33m.\u001b[0m\u001b[0madd\u001b[0m\u001b[1;33m(\u001b[0m\u001b[0mtf\u001b[0m\u001b[1;33m.\u001b[0m\u001b[0mkeras\u001b[0m\u001b[1;33m.\u001b[0m\u001b[0mlayers\u001b[0m\u001b[1;33m.\u001b[0m\u001b[0mDense\u001b[0m\u001b[1;33m(\u001b[0m\u001b[0munits\u001b[0m\u001b[1;33m=\u001b[0m\u001b[1;36m6\u001b[0m\u001b[1;33m,\u001b[0m \u001b[0mactivation\u001b[0m\u001b[1;33m=\u001b[0m\u001b[1;34m\"relu\"\u001b[0m\u001b[1;33m,\u001b[0m \u001b[0minput_dim\u001b[0m\u001b[1;33m=\u001b[0m\u001b[1;36m6\u001b[0m\u001b[1;33m)\u001b[0m\u001b[1;33m)\u001b[0m\u001b[1;33m\u001b[0m\u001b[1;33m\u001b[0m\u001b[0m\n",
      "\u001b[1;31mNameError\u001b[0m: name 'tf' is not defined"
     ]
    }
   ],
   "source": [
    "# Create the Keras Sequential model\n",
    "nn_model = tf.keras.models.Sequential()\n",
    "\n",
    "# Add our first Dense layer, including the input layer\n",
    "nn_model.add(tf.keras.layers.Dense(units=6, activation=\"relu\", input_dim=6))\n",
    "\n",
    "# Add our second Dense layer, including the input layer\n",
    "nn_model.add(tf.keras.layers.Dense(units=3, activation=\"relu\"))\n",
    "\n",
    "# Add the output layer that uses a probability activation function\n",
    "nn_model.add(tf.keras.layers.Dense(units=1, activation=\"linear\"))\n",
    "\n",
    "# Compile the Sequential model together and customize metrics\n",
    "nn_model.compile(loss=\"mean_squared_error\", optimizer=\"adam\", metrics=[\"accuracy\"])"
   ]
  },
  {
   "cell_type": "code",
   "execution_count": null,
   "id": "1c08dd3b",
   "metadata": {},
   "outputs": [],
   "source": [
    "# Fit the model to the training data\n",
    "fit_model = nn_model.fit(X_train_scaled, y_train, epochs=100)"
   ]
  },
  {
   "cell_type": "code",
   "execution_count": null,
   "id": "0707b93b",
   "metadata": {},
   "outputs": [],
   "source": [
    "# Plot the accuracy\n",
    "history_df.plot(y=\"accuracy\")\n",
    "\n",
    "# Evaluate the model using the test data\n",
    "model_loss, model_accuracy = nn_model.evaluate(X_test_scaled,y_test,verbose=2)\n",
    "print(f\"Loss: {model_loss}, Accuracy: {model_accuracy}\")"
   ]
  },
  {
   "cell_type": "code",
   "execution_count": null,
   "id": "a75f2432",
   "metadata": {},
   "outputs": [],
   "source": []
  },
  {
   "cell_type": "code",
   "execution_count": null,
   "id": "370011d3",
   "metadata": {},
   "outputs": [],
   "source": []
  },
  {
   "cell_type": "code",
   "execution_count": null,
   "id": "0d9e30ed",
   "metadata": {},
   "outputs": [],
   "source": []
  },
  {
   "cell_type": "code",
   "execution_count": null,
   "id": "6f1acd9f",
   "metadata": {},
   "outputs": [],
   "source": []
  },
  {
   "cell_type": "code",
   "execution_count": null,
   "id": "8868280f",
   "metadata": {},
   "outputs": [],
   "source": []
  }
 ],
 "metadata": {
  "kernelspec": {
   "display_name": "Python [conda env:root] *",
   "language": "python",
   "name": "conda-root-py"
  },
  "language_info": {
   "codemirror_mode": {
    "name": "ipython",
    "version": 3
   },
   "file_extension": ".py",
   "mimetype": "text/x-python",
   "name": "python",
   "nbconvert_exporter": "python",
   "pygments_lexer": "ipython3",
   "version": "3.8.8"
  }
 },
 "nbformat": 4,
 "nbformat_minor": 5
}
