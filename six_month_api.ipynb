{
 "cells": [
  {
   "cell_type": "code",
   "execution_count": 1,
   "metadata": {},
   "outputs": [],
   "source": [
    "import pandas as pd"
   ]
  },
  {
   "cell_type": "code",
   "execution_count": 2,
   "metadata": {},
   "outputs": [],
   "source": [
    "amd_df = pd.read_csv('api_data/api_amd.csv')\n",
    "google_df = pd.read_csv('api_data/api_google.csv')\n",
    "hp_df = pd.read_csv('api_data/api_hp.csv')\n",
    "intel_df = pd.read_csv('api_data/api_intel.csv')\n",
    "tesla_df = pd.read_csv('api_data/api_tesla.csv')"
   ]
  },
  {
   "cell_type": "code",
   "execution_count": 4,
   "metadata": {},
   "outputs": [],
   "source": [
    "amd_last6m = amd_df.tail(163).to_csv('api_data/api_amd_sixm.csv', index=False, header=True)\n",
    "google_last6m = google_df.tail(163).to_csv('api_data/api_google_sixm.csv', index=False, header=True)\n",
    "hp_last6m = hp_df.tail(163).to_csv('api_data/api_hp_sixm.csv', index=False, header=True)\n",
    "intel_last6m = intel_df.tail(163).to_csv('api_data/api_intel_sixm.csv', index=False, header=True)\n",
    "tesla_last6m = tesla_df.tail(163).to_csv('api_data/api_tesla_sixm.csv', index=False, header=True)"
   ]
  },
  {
   "cell_type": "code",
   "execution_count": null,
   "metadata": {},
   "outputs": [],
   "source": []
  },
  {
   "cell_type": "code",
   "execution_count": null,
   "metadata": {},
   "outputs": [],
   "source": []
  }
 ],
 "metadata": {
  "kernelspec": {
   "display_name": "Python [conda env:root] *",
   "language": "python",
   "name": "conda-root-py"
  },
  "language_info": {
   "codemirror_mode": {
    "name": "ipython",
    "version": 3
   },
   "file_extension": ".py",
   "mimetype": "text/x-python",
   "name": "python",
   "nbconvert_exporter": "python",
   "pygments_lexer": "ipython3",
   "version": "3.8.5"
  }
 },
 "nbformat": 4,
 "nbformat_minor": 4
}
